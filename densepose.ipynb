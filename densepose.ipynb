{
 "cells": [
  {
   "cell_type": "code",
   "id": "initial_id",
   "metadata": {
    "collapsed": true,
    "ExecuteTime": {
     "end_time": "2024-11-12T01:04:01.422618Z",
     "start_time": "2024-11-12T01:04:01.420094Z"
    }
   },
   "source": "",
   "outputs": [],
   "execution_count": null
  },
  {
   "metadata": {
    "ExecuteTime": {
     "end_time": "2024-11-12T01:05:26.449791Z",
     "start_time": "2024-11-12T01:05:26.447203Z"
    }
   },
   "cell_type": "code",
   "source": [
    "# import os, sys, distutils\n",
    "# dist = distutils.core.run_setup(\"./detectron2/setup.py\")\n",
    "# !python -m pip install {' '.join([f\"'{x}'\" for x in dist.install_requires])}\n",
    "# sys.path.insert(0, os.path.abspath('./detectron2'))"
   ],
   "id": "194a6a0cdb8aab6e",
   "outputs": [],
   "execution_count": 3
  },
  {
   "metadata": {},
   "cell_type": "code",
   "outputs": [],
   "execution_count": null,
   "source": [
    "from densepose.densepose import add_densepose_config\n",
    "\n",
    "from detectron2.config import get_cfg\n",
    "confg_path = ''\n",
    "\n",
    "cfg = get_cfg()\n",
    "add_densepose_config(cfg)\n",
    "cfg.merge_from_file(config_fpath)"
   ],
   "id": "150daeca8b36b9b9"
  }
 ],
 "metadata": {
  "kernelspec": {
   "display_name": "Python 3",
   "language": "python",
   "name": "python3"
  },
  "language_info": {
   "codemirror_mode": {
    "name": "ipython",
    "version": 2
   },
   "file_extension": ".py",
   "mimetype": "text/x-python",
   "name": "python",
   "nbconvert_exporter": "python",
   "pygments_lexer": "ipython2",
   "version": "2.7.6"
  }
 },
 "nbformat": 4,
 "nbformat_minor": 5
}
